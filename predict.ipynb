{
 "cells": [
  {
   "cell_type": "markdown",
   "metadata": {},
   "source": [
    "# Predicting wind turbine power output\n",
    "By Unai Barredo ([GitHub](https://github.com/ubarredo/NEM-DataChallenge)) "
   ]
  },
  {
   "cell_type": "markdown",
   "metadata": {},
   "source": [
    "## Imports"
   ]
  },
  {
   "cell_type": "markdown",
   "metadata": {},
   "source": [
    "For this task we need to import some necessary libraries and functions."
   ]
  },
  {
   "cell_type": "code",
   "execution_count": 1,
   "metadata": {
    "collapsed": true
   },
   "outputs": [],
   "source": [
    "import os\n",
    "import pandas as pd\n",
    "import numpy as np\n",
    "import matplotlib.pyplot as plt\n",
    "import seaborn as sns\n",
    "\n",
    "from itertools import product\n",
    "\n",
    "from sklearn.model_selection import train_test_split\n",
    "\n",
    "from sklearn.linear_model import LinearRegression\n",
    "from sklearn.linear_model import RidgeCV\n",
    "from sklearn.linear_model import LassoCV\n",
    "from sklearn.svm import SVR\n",
    "from sklearn.ensemble import RandomForestRegressor\n",
    "from sklearn.ensemble import GradientBoostingRegressor\n",
    "\n",
    "from sklearn.metrics import explained_variance_score\n",
    "from sklearn.metrics import mean_absolute_error\n",
    "from sklearn.metrics import mean_squared_error\n",
    "from sklearn.metrics import median_absolute_error\n",
    "from sklearn.metrics import r2_score\n",
    "\n",
    "import warnings\n",
    "warnings.filterwarnings('ignore')\n",
    "\n",
    "sns.set(context ='notebook', style='darkgrid', color_codes=True)\n",
    "%matplotlib inline"
   ]
  },
  {
   "cell_type": "markdown",
   "metadata": {},
   "source": [
    "## Historical Dataset"
   ]
  },
  {
   "cell_type": "markdown",
   "metadata": {},
   "source": [
    "First we will load the processed historical data into a dataframe. We only need the WNACWindSpeed, WNACAmbTemp, WTURPower and asset features as they are the only ones in our evaluation dataset."
   ]
  },
  {
   "cell_type": "code",
   "execution_count": 2,
   "metadata": {},
   "outputs": [
    {
     "name": "stdout",
     "output_type": "stream",
     "text": [
      "<class 'pandas.core.frame.DataFrame'>\n",
      "Int64Index: 108868 entries, 0 to 22141\n",
      "Data columns (total 4 columns):\n",
      "asset            108868 non-null object\n",
      "WNACAmbTemp      108868 non-null float64\n",
      "WNACWindSpeed    108867 non-null float64\n",
      "WTURPower        108867 non-null float64\n",
      "dtypes: float64(3), object(1)\n",
      "memory usage: 4.2+ MB\n"
     ]
    },
    {
     "data": {
      "text/html": [
       "<div>\n",
       "<style>\n",
       "    .dataframe thead tr:only-child th {\n",
       "        text-align: right;\n",
       "    }\n",
       "\n",
       "    .dataframe thead th {\n",
       "        text-align: left;\n",
       "    }\n",
       "\n",
       "    .dataframe tbody tr th {\n",
       "        vertical-align: top;\n",
       "    }\n",
       "</style>\n",
       "<table border=\"1\" class=\"dataframe\">\n",
       "  <thead>\n",
       "    <tr style=\"text-align: right;\">\n",
       "      <th></th>\n",
       "      <th>asset</th>\n",
       "      <th>WNACAmbTemp</th>\n",
       "      <th>WNACWindSpeed</th>\n",
       "      <th>WTURPower</th>\n",
       "    </tr>\n",
       "  </thead>\n",
       "  <tbody>\n",
       "    <tr>\n",
       "      <th>34</th>\n",
       "      <td>A001</td>\n",
       "      <td>0.31047</td>\n",
       "      <td>0.18429</td>\n",
       "      <td>0.25388</td>\n",
       "    </tr>\n",
       "    <tr>\n",
       "      <th>952</th>\n",
       "      <td>A001</td>\n",
       "      <td>0.39746</td>\n",
       "      <td>0.20029</td>\n",
       "      <td>0.29897</td>\n",
       "    </tr>\n",
       "    <tr>\n",
       "      <th>17261</th>\n",
       "      <td>A004</td>\n",
       "      <td>0.23416</td>\n",
       "      <td>0.16886</td>\n",
       "      <td>0.16150</td>\n",
       "    </tr>\n",
       "    <tr>\n",
       "      <th>13165</th>\n",
       "      <td>A004</td>\n",
       "      <td>0.72691</td>\n",
       "      <td>0.08057</td>\n",
       "      <td>0.00372</td>\n",
       "    </tr>\n",
       "    <tr>\n",
       "      <th>18496</th>\n",
       "      <td>A005</td>\n",
       "      <td>0.37545</td>\n",
       "      <td>0.15971</td>\n",
       "      <td>0.15843</td>\n",
       "    </tr>\n",
       "  </tbody>\n",
       "</table>\n",
       "</div>"
      ],
      "text/plain": [
       "      asset  WNACAmbTemp  WNACWindSpeed  WTURPower\n",
       "34     A001      0.31047        0.18429    0.25388\n",
       "952    A001      0.39746        0.20029    0.29897\n",
       "17261  A004      0.23416        0.16886    0.16150\n",
       "13165  A004      0.72691        0.08057    0.00372\n",
       "18496  A005      0.37545        0.15971    0.15843"
      ]
     },
     "execution_count": 2,
     "metadata": {},
     "output_type": "execute_result"
    }
   ],
   "source": [
    "historical = pd.DataFrame()\n",
    "for dataset in os.listdir('processed/'):\n",
    "    if '.csv.gz' in dataset:\n",
    "        processed = pd.read_csv('processed/' + dataset,\n",
    "                                usecols=['asset', 'WNACWindSpeed', 'WNACAmbTemp', 'WTURPower'],\n",
    "                                compression='gzip')\n",
    "        historical = historical.append(processed)\n",
    "historical.info()\n",
    "historical.sample(5)"
   ]
  },
  {
   "cell_type": "markdown",
   "metadata": {},
   "source": [
    "## Data Processing"
   ]
  },
  {
   "cell_type": "markdown",
   "metadata": {},
   "source": [
    "* Deal with the numeric missing values (NaN's). Since there is only one we will just drop it.\n",
    "* Create Dummy variables for the asset categorical feature.\n",
    "* Transform the numerical values by taking log (10*value + 1), this will make the features more normal."
   ]
  },
  {
   "cell_type": "code",
   "execution_count": 3,
   "metadata": {},
   "outputs": [
    {
     "name": "stdout",
     "output_type": "stream",
     "text": [
      "<class 'pandas.core.frame.DataFrame'>\n",
      "Int64Index: 108867 entries, 0 to 22141\n",
      "Data columns (total 8 columns):\n",
      "WNACAmbTemp      108867 non-null float64\n",
      "WNACWindSpeed    108867 non-null float64\n",
      "WTURPower        108867 non-null float64\n",
      "asset_A001       108867 non-null uint8\n",
      "asset_A002       108867 non-null uint8\n",
      "asset_A003       108867 non-null uint8\n",
      "asset_A004       108867 non-null uint8\n",
      "asset_A005       108867 non-null uint8\n",
      "dtypes: float64(3), uint8(5)\n",
      "memory usage: 3.8 MB\n"
     ]
    },
    {
     "data": {
      "text/html": [
       "<div>\n",
       "<style>\n",
       "    .dataframe thead tr:only-child th {\n",
       "        text-align: right;\n",
       "    }\n",
       "\n",
       "    .dataframe thead th {\n",
       "        text-align: left;\n",
       "    }\n",
       "\n",
       "    .dataframe tbody tr th {\n",
       "        vertical-align: top;\n",
       "    }\n",
       "</style>\n",
       "<table border=\"1\" class=\"dataframe\">\n",
       "  <thead>\n",
       "    <tr style=\"text-align: right;\">\n",
       "      <th></th>\n",
       "      <th>WNACAmbTemp</th>\n",
       "      <th>WNACWindSpeed</th>\n",
       "      <th>WTURPower</th>\n",
       "      <th>asset_A001</th>\n",
       "      <th>asset_A002</th>\n",
       "      <th>asset_A003</th>\n",
       "      <th>asset_A004</th>\n",
       "      <th>asset_A005</th>\n",
       "    </tr>\n",
       "  </thead>\n",
       "  <tbody>\n",
       "    <tr>\n",
       "      <th>16552</th>\n",
       "      <td>0.27742</td>\n",
       "      <td>0.11171</td>\n",
       "      <td>0.03500</td>\n",
       "      <td>0</td>\n",
       "      <td>0</td>\n",
       "      <td>0</td>\n",
       "      <td>1</td>\n",
       "      <td>0</td>\n",
       "    </tr>\n",
       "    <tr>\n",
       "      <th>8908</th>\n",
       "      <td>0.63545</td>\n",
       "      <td>0.14286</td>\n",
       "      <td>0.08155</td>\n",
       "      <td>0</td>\n",
       "      <td>0</td>\n",
       "      <td>1</td>\n",
       "      <td>0</td>\n",
       "      <td>0</td>\n",
       "    </tr>\n",
       "    <tr>\n",
       "      <th>19758</th>\n",
       "      <td>0.29441</td>\n",
       "      <td>0.25629</td>\n",
       "      <td>0.65973</td>\n",
       "      <td>0</td>\n",
       "      <td>0</td>\n",
       "      <td>0</td>\n",
       "      <td>0</td>\n",
       "      <td>1</td>\n",
       "    </tr>\n",
       "    <tr>\n",
       "      <th>740</th>\n",
       "      <td>0.56414</td>\n",
       "      <td>0.05914</td>\n",
       "      <td>-0.00327</td>\n",
       "      <td>1</td>\n",
       "      <td>0</td>\n",
       "      <td>0</td>\n",
       "      <td>0</td>\n",
       "      <td>0</td>\n",
       "    </tr>\n",
       "    <tr>\n",
       "      <th>11206</th>\n",
       "      <td>0.64992</td>\n",
       "      <td>0.15857</td>\n",
       "      <td>0.11980</td>\n",
       "      <td>0</td>\n",
       "      <td>0</td>\n",
       "      <td>1</td>\n",
       "      <td>0</td>\n",
       "      <td>0</td>\n",
       "    </tr>\n",
       "  </tbody>\n",
       "</table>\n",
       "</div>"
      ],
      "text/plain": [
       "       WNACAmbTemp  WNACWindSpeed  WTURPower  asset_A001  asset_A002  \\\n",
       "16552      0.27742        0.11171    0.03500           0           0   \n",
       "8908       0.63545        0.14286    0.08155           0           0   \n",
       "19758      0.29441        0.25629    0.65973           0           0   \n",
       "740        0.56414        0.05914   -0.00327           1           0   \n",
       "11206      0.64992        0.15857    0.11980           0           0   \n",
       "\n",
       "       asset_A003  asset_A004  asset_A005  \n",
       "16552           0           1           0  \n",
       "8908            1           0           0  \n",
       "19758           0           0           1  \n",
       "740             0           0           0  \n",
       "11206           1           0           0  "
      ]
     },
     "execution_count": 3,
     "metadata": {},
     "output_type": "execute_result"
    }
   ],
   "source": [
    "historical.dropna(inplace=True)\n",
    "historical = pd.get_dummies(historical)\n",
    "historical.info()\n",
    "historical.sample(5)"
   ]
  },
  {
   "cell_type": "code",
   "execution_count": 4,
   "metadata": {
    "scrolled": false
   },
   "outputs": [
    {
     "data": {
      "image/png": "[encoded data removed]",
      "text/plain": [
       "<matplotlib.figure.Figure at 0x10a71ab00>"
      ]
     },
     "metadata": {},
     "output_type": "display_data"
    }
   ],
   "source": [
    "f, axes = plt.subplots(2, 3, figsize=(10, 4))\n",
    "n = 0\n",
    "for feature in ['WNACWindSpeed', 'WNACAmbTemp', 'WTURPower']:\n",
    "    sns.distplot(historical[feature],\n",
    "                 ax=axes.flat[n], color='orange')\n",
    "    sns.distplot(np.log1p(10 * historical[feature]),\n",
    "                 ax=axes.flat[n + 3], color='purple')\n",
    "    axes.flat[n].set_xlabel(feature)\n",
    "    axes.flat[n + 3].set_xlabel(f'log(10*{feature} + 1)')\n",
    "    n += 1\n",
    "f.tight_layout()"
   ]
  },
  {
   "cell_type": "code",
   "execution_count": 5,
   "metadata": {
    "collapsed": true
   },
   "outputs": [],
   "source": [
    "log_historical = np.log1p(10 * historical)"
   ]
  },
  {
   "cell_type": "markdown",
   "metadata": {},
   "source": [
    "## Modelling"
   ]
  },
  {
   "cell_type": "markdown",
   "metadata": {},
   "source": [
    "We are going to try different approaches to create the model, and check the error metrics."
   ]
  },
  {
   "cell_type": "code",
   "execution_count": 6,
   "metadata": {},
   "outputs": [
    {
     "data": {
      "text/html": [
       "<div>\n",
       "<style>\n",
       "    .dataframe thead tr:only-child th {\n",
       "        text-align: right;\n",
       "    }\n",
       "\n",
       "    .dataframe thead th {\n",
       "        text-align: left;\n",
       "    }\n",
       "\n",
       "    .dataframe tbody tr th {\n",
       "        vertical-align: top;\n",
       "    }\n",
       "</style>\n",
       "<table border=\"1\" class=\"dataframe\">\n",
       "  <thead>\n",
       "    <tr style=\"text-align: right;\">\n",
       "      <th></th>\n",
       "      <th>explained_variance</th>\n",
       "      <th>mean_abs_error</th>\n",
       "      <th>mean_sq_error</th>\n",
       "      <th>median_abs_error</th>\n",
       "      <th>r2_score</th>\n",
       "    </tr>\n",
       "  </thead>\n",
       "  <tbody>\n",
       "    <tr>\n",
       "      <th>Linear</th>\n",
       "      <td>0.90517</td>\n",
       "      <td>0.04385</td>\n",
       "      <td>0.00560</td>\n",
       "      <td>0.02672</td>\n",
       "      <td>0.90187</td>\n",
       "    </tr>\n",
       "    <tr>\n",
       "      <th>Ridge</th>\n",
       "      <td>0.90515</td>\n",
       "      <td>0.04386</td>\n",
       "      <td>0.00560</td>\n",
       "      <td>0.02673</td>\n",
       "      <td>0.90184</td>\n",
       "    </tr>\n",
       "    <tr>\n",
       "      <th>Lasso</th>\n",
       "      <td>0.90495</td>\n",
       "      <td>0.04397</td>\n",
       "      <td>0.00561</td>\n",
       "      <td>0.02678</td>\n",
       "      <td>0.90158</td>\n",
       "    </tr>\n",
       "    <tr>\n",
       "      <th>SuportVector</th>\n",
       "      <td>0.65128</td>\n",
       "      <td>0.10055</td>\n",
       "      <td>0.02655</td>\n",
       "      <td>0.04935</td>\n",
       "      <td>0.53455</td>\n",
       "    </tr>\n",
       "    <tr>\n",
       "      <th>RandomForest</th>\n",
       "      <td>0.98083</td>\n",
       "      <td>0.01781</td>\n",
       "      <td>0.00110</td>\n",
       "      <td>0.00982</td>\n",
       "      <td>0.98080</td>\n",
       "    </tr>\n",
       "    <tr>\n",
       "      <th>GradientBoosting</th>\n",
       "      <td>0.98610</td>\n",
       "      <td>0.01557</td>\n",
       "      <td>0.00080</td>\n",
       "      <td>0.00848</td>\n",
       "      <td>0.98605</td>\n",
       "    </tr>\n",
       "  </tbody>\n",
       "</table>\n",
       "</div>"
      ],
      "text/plain": [
       "                  explained_variance  mean_abs_error  mean_sq_error  \\\n",
       "Linear                       0.90517         0.04385        0.00560   \n",
       "Ridge                        0.90515         0.04386        0.00560   \n",
       "Lasso                        0.90495         0.04397        0.00561   \n",
       "SuportVector                 0.65128         0.10055        0.02655   \n",
       "RandomForest                 0.98083         0.01781        0.00110   \n",
       "GradientBoosting             0.98610         0.01557        0.00080   \n",
       "\n",
       "                  median_abs_error  r2_score  \n",
       "Linear                     0.02672   0.90187  \n",
       "Ridge                      0.02673   0.90184  \n",
       "Lasso                      0.02678   0.90158  \n",
       "SuportVector               0.04935   0.53455  \n",
       "RandomForest               0.00982   0.98080  \n",
       "GradientBoosting           0.00848   0.98605  "
      ]
     },
     "execution_count": 6,
     "metadata": {},
     "output_type": "execute_result"
    }
   ],
   "source": [
    "x_train, x_test, y_train, y_test = train_test_split(log_historical.drop('WTURPower', axis=1),\n",
    "                                                    log_historical['WTURPower'])\n",
    "models = {'Linear': LinearRegression(),\n",
    "          'Ridge': RidgeCV(),\n",
    "          'Lasso': LassoCV(),\n",
    "          'SuportVector': SVR(max_iter=1000),\n",
    "          'RandomForest': RandomForestRegressor(),\n",
    "          'GradientBoosting': GradientBoostingRegressor()}\n",
    "original = .1 * np.expm1(y_test)\n",
    "metrics = pd.DataFrame()\n",
    "for m in models:\n",
    "    models[m].fit(x_train, y_train)\n",
    "    predicted = .1 * np.expm1(models[m].predict(x_test))\n",
    "    metrics.loc[m, 'explained_variance'] = explained_variance_score(original, predicted)\n",
    "    metrics.loc[m, 'mean_abs_error'] = mean_absolute_error(original, predicted)\n",
    "    metrics.loc[m, 'mean_sq_error'] = mean_squared_error(original, predicted)\n",
    "    metrics.loc[m, 'median_abs_error'] = median_absolute_error(original, predicted)\n",
    "    metrics.loc[m, 'r2_score'] = r2_score(original, predicted)\n",
    "metrics.round(5)"
   ]
  },
  {
   "cell_type": "markdown",
   "metadata": {},
   "source": [
    "By far we see that we obtain the best results with the ensemble methods. We are going to use the Gradient Boost method."
   ]
  },
  {
   "cell_type": "code",
   "execution_count": 7,
   "metadata": {},
   "outputs": [
    {
     "data": {
      "text/html": [
       "<div>\n",
       "<style>\n",
       "    .dataframe thead tr:only-child th {\n",
       "        text-align: right;\n",
       "    }\n",
       "\n",
       "    .dataframe thead th {\n",
       "        text-align: left;\n",
       "    }\n",
       "\n",
       "    .dataframe tbody tr th {\n",
       "        vertical-align: top;\n",
       "    }\n",
       "</style>\n",
       "<table border=\"1\" class=\"dataframe\">\n",
       "  <thead>\n",
       "    <tr style=\"text-align: right;\">\n",
       "      <th></th>\n",
       "      <th>original</th>\n",
       "      <th>predicted</th>\n",
       "    </tr>\n",
       "  </thead>\n",
       "  <tbody>\n",
       "    <tr>\n",
       "      <th>11161</th>\n",
       "      <td>0.07832</td>\n",
       "      <td>0.08098</td>\n",
       "    </tr>\n",
       "    <tr>\n",
       "      <th>11774</th>\n",
       "      <td>0.21119</td>\n",
       "      <td>0.19831</td>\n",
       "    </tr>\n",
       "    <tr>\n",
       "      <th>5356</th>\n",
       "      <td>0.30792</td>\n",
       "      <td>0.29931</td>\n",
       "    </tr>\n",
       "    <tr>\n",
       "      <th>16181</th>\n",
       "      <td>0.11558</td>\n",
       "      <td>0.11192</td>\n",
       "    </tr>\n",
       "    <tr>\n",
       "      <th>9816</th>\n",
       "      <td>0.00068</td>\n",
       "      <td>0.00905</td>\n",
       "    </tr>\n",
       "  </tbody>\n",
       "</table>\n",
       "</div>"
      ],
      "text/plain": [
       "       original  predicted\n",
       "11161   0.07832    0.08098\n",
       "11774   0.21119    0.19831\n",
       "5356    0.30792    0.29931\n",
       "16181   0.11558    0.11192\n",
       "9816    0.00068    0.00905"
      ]
     },
     "execution_count": 7,
     "metadata": {},
     "output_type": "execute_result"
    }
   ],
   "source": [
    "gboost = GradientBoostingRegressor()\n",
    "gboost.fit(x_train, y_train)\n",
    "predicted = .1 * np.expm1(gboost.predict(x_test))\n",
    "pd.DataFrame({'original': original, 'predicted': predicted}).round(5).sample(5)"
   ]
  },
  {
   "cell_type": "markdown",
   "metadata": {},
   "source": [
    "## Evaluation Dataset"
   ]
  },
  {
   "cell_type": "markdown",
   "metadata": {},
   "source": [
    "We will load each set of forecast data one by one, to have an information with a period of 10 minutes we interpolate the data and fill it. Finally, we will apply our model to create a prediction of energy production and export the results."
   ]
  },
  {
   "cell_type": "code",
   "execution_count": 8,
   "metadata": {},
   "outputs": [
    {
     "name": "stdout",
     "output_type": "stream",
     "text": [
      "<class 'pandas.core.frame.DataFrame'>\n",
      "Int64Index: 5040 entries, 0 to 5039\n",
      "Data columns (total 5 columns):\n",
      "asset            5040 non-null object\n",
      "unixtime         5040 non-null int64\n",
      "WNACWindSpeed    5040 non-null float64\n",
      "WNACAmbTemp      5040 non-null float64\n",
      "WTURPower        5040 non-null float64\n",
      "dtypes: float64(3), int64(1), object(1)\n",
      "memory usage: 236.2+ KB\n"
     ]
    },
    {
     "data": {
      "text/html": [
       "<div>\n",
       "<style>\n",
       "    .dataframe thead tr:only-child th {\n",
       "        text-align: right;\n",
       "    }\n",
       "\n",
       "    .dataframe thead th {\n",
       "        text-align: left;\n",
       "    }\n",
       "\n",
       "    .dataframe tbody tr th {\n",
       "        vertical-align: top;\n",
       "    }\n",
       "</style>\n",
       "<table border=\"1\" class=\"dataframe\">\n",
       "  <thead>\n",
       "    <tr style=\"text-align: right;\">\n",
       "      <th></th>\n",
       "      <th>asset</th>\n",
       "      <th>unixtime</th>\n",
       "      <th>WNACWindSpeed</th>\n",
       "      <th>WNACAmbTemp</th>\n",
       "      <th>WTURPower</th>\n",
       "    </tr>\n",
       "  </thead>\n",
       "  <tbody>\n",
       "    <tr>\n",
       "      <th>4131</th>\n",
       "      <td>A005</td>\n",
       "      <td>1444581600</td>\n",
       "      <td>0.03114</td>\n",
       "      <td>0.34157</td>\n",
       "      <td>-0.00154</td>\n",
       "    </tr>\n",
       "    <tr>\n",
       "      <th>322</th>\n",
       "      <td>A001</td>\n",
       "      <td>1444715400</td>\n",
       "      <td>0.26749</td>\n",
       "      <td>0.24115</td>\n",
       "      <td>0.70142</td>\n",
       "    </tr>\n",
       "    <tr>\n",
       "      <th>1513</th>\n",
       "      <td>A002</td>\n",
       "      <td>1444825200</td>\n",
       "      <td>0.20286</td>\n",
       "      <td>0.25931</td>\n",
       "      <td>0.30887</td>\n",
       "    </tr>\n",
       "    <tr>\n",
       "      <th>1083</th>\n",
       "      <td>A002</td>\n",
       "      <td>1444567200</td>\n",
       "      <td>0.08153</td>\n",
       "      <td>0.42184</td>\n",
       "      <td>-0.00062</td>\n",
       "    </tr>\n",
       "    <tr>\n",
       "      <th>3390</th>\n",
       "      <td>A004</td>\n",
       "      <td>1444741800</td>\n",
       "      <td>0.28099</td>\n",
       "      <td>0.35320</td>\n",
       "      <td>0.75235</td>\n",
       "    </tr>\n",
       "  </tbody>\n",
       "</table>\n",
       "</div>"
      ],
      "text/plain": [
       "     asset    unixtime  WNACWindSpeed  WNACAmbTemp  WTURPower\n",
       "4131  A005  1444581600        0.03114      0.34157   -0.00154\n",
       "322   A001  1444715400        0.26749      0.24115    0.70142\n",
       "1513  A002  1444825200        0.20286      0.25931    0.30887\n",
       "1083  A002  1444567200        0.08153      0.42184   -0.00062\n",
       "3390  A004  1444741800        0.28099      0.35320    0.75235"
      ]
     },
     "execution_count": 8,
     "metadata": {},
     "output_type": "execute_result"
    }
   ],
   "source": [
    "for dataset in os.listdir('forecasts/'):\n",
    "    if '.csv.gz' in dataset:\n",
    "        forecast = pd.read_csv('forecasts/' + dataset, compression='gzip')\n",
    "        bot = forecast['unixtime'].min() + 600\n",
    "        top = (forecast['unixtime'] + forecast['range']).max() + 600\n",
    "        forecast['unixtime'] = forecast['unixtime'] + forecast['range']\n",
    "        forecast.drop('range', axis=1, inplace=True)\n",
    "        times = range(bot, top, 600)\n",
    "        assets = forecast['asset'].unique()\n",
    "        evaluation = pd.DataFrame(list(product(assets, times)), columns=['asset', 'unixtime'])\n",
    "        evaluation = pd.merge(evaluation, forecast, on=['asset', 'unixtime'], how='left')\n",
    "        evaluation.interpolate(method='linear', inplace=True)\n",
    "        evaluation.fillna(method='bfill', inplace=True)\n",
    "        log_evaluation = np.log1p(10 * pd.get_dummies(evaluation.drop('unixtime', axis=1)))\n",
    "        log_evaluation = log_evaluation[x_train.columns.tolist()]\n",
    "        evaluation['WTURPower'] = .1 * np.expm1(gboost.predict(log_evaluation))\n",
    "        evaluation.round(5).to_csv('predictions/' + dataset,\n",
    "                                   index=False,\n",
    "                                   columns=['asset', 'unixtime', 'WTURPower'],\n",
    "                                   compression='gzip')\n",
    "evaluation.info()\n",
    "evaluation.round(5).sample(5)"
   ]
  },
  {
   "cell_type": "markdown",
   "metadata": {},
   "source": [
    "Visualising our prediction of energy production output for a week, we see that it is directly correlated with the wind speed forecast. "
   ]
  },
  {
   "cell_type": "code",
   "execution_count": 9,
   "metadata": {},
   "outputs": [
    {
     "data": {
      "image/png": "[encoded data removed]",
      "text/plain": [
       "<matplotlib.figure.Figure at 0x10c3e7b00>"
      ]
     },
     "metadata": {},
     "output_type": "display_data"
    }
   ],
   "source": [
    "f, axes = plt.subplots(3, 1, figsize=(10, 4), sharex=True)\n",
    "colors = ['b', 'g', 'r']\n",
    "n = 0\n",
    "for feature in ['WNACWindSpeed', 'WNACAmbTemp', 'WTURPower']:\n",
    "    sns.tsplot(data=evaluation, time='unixtime', value=feature, unit='asset',\n",
    "               ax=axes[n], color=colors[n])\n",
    "    axes[n].set_title(feature, fontweight='bold')\n",
    "    axes[n].set(xticks=(), ylabel='', xlabel='')\n",
    "    n += 1\n",
    "f.tight_layout()"
   ]
  }
 ],
 "metadata": {
  "kernelspec": {
   "display_name": "Python 3",
   "language": "python",
   "name": "python3"
  },
  "language_info": {
   "codemirror_mode": {
    "name": "ipython",
    "version": 3
   },
   "file_extension": ".py",
   "mimetype": "text/x-python",
   "name": "python",
   "nbconvert_exporter": "python",
   "pygments_lexer": "ipython3",
   "version": "3.6.0"
  }
 },
 "nbformat": 4,
 "nbformat_minor": 1
}
